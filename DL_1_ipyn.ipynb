{
  "nbformat": 4,
  "nbformat_minor": 0,
  "metadata": {
    "colab": {
      "provenance": []
    },
    "kernelspec": {
      "name": "python3",
      "display_name": "Python 3"
    },
    "language_info": {
      "name": "python"
    }
  },
  "cells": [
    {
      "cell_type": "code",
      "execution_count": null,
      "metadata": {
        "colab": {
          "base_uri": "https://localhost:8080/"
        },
        "id": "mHAIAmgfBwU0",
        "outputId": "27bcf460-1740-4251-9cf9-00df63a5c7eb"
      },
      "outputs": [
        {
          "output_type": "stream",
          "name": "stdout",
          "text": [
            "Epoch 0: Loss = 0.31882381888878897\n",
            "Epoch 1000: Loss = 0.2213946296190255\n",
            "Epoch 2000: Loss = 0.1656989309995039\n",
            "Epoch 3000: Loss = 0.14381966387705913\n",
            "Epoch 4000: Loss = 0.13602308463496537\n",
            "Epoch 5000: Loss = 0.1325086315280555\n",
            "Epoch 6000: Loss = 0.13059975808735477\n",
            "Epoch 7000: Loss = 0.12942582318515672\n",
            "Epoch 8000: Loss = 0.12863983509904509\n",
            "Epoch 9000: Loss = 0.12808056645675403\n",
            "Predictions:\n",
            "[[0.04023979]\n",
            " [0.94949959]\n",
            " [0.49843872]\n",
            " [0.50489927]]\n"
          ]
        }
      ],
      "source": [
        "# prompt: error backpropagation using xor gate\n",
        "\n",
        "import numpy as np\n",
        "\n",
        "# Define the XOR gate truth table\n",
        "X = np.array([[0, 0], [0, 1], [1, 0], [1, 1]])\n",
        "y = np.array([[0], [1], [1], [0]])\n",
        "\n",
        "# Initialize weights and biases randomly\n",
        "input_size = 2\n",
        "hidden_size = 2\n",
        "output_size = 1\n",
        "\n",
        "W1 = np.random.randn(input_size, hidden_size)\n",
        "b1 = np.zeros((1, hidden_size))\n",
        "W2 = np.random.randn(hidden_size, output_size)\n",
        "b2 = np.zeros((1, output_size))\n",
        "\n",
        "# Define the sigmoid activation function and its derivative\n",
        "def sigmoid(x):\n",
        "  return 1 / (1 + np.exp(-x))\n",
        "\n",
        "def sigmoid_derivative(x):\n",
        "  return x * (1 - x)\n",
        "\n",
        "# Set the learning rate and number of epochs\n",
        "learning_rate = 0.1\n",
        "epochs = 10000\n",
        "\n",
        "# Train the neural network\n",
        "for epoch in range(epochs):\n",
        "  # Forward propagation\n",
        "  z1 = np.dot(X, W1) + b1\n",
        "  a1 = sigmoid(z1)\n",
        "  z2 = np.dot(a1, W2) + b2\n",
        "  y_pred = sigmoid(z2)\n",
        "\n",
        "  # Calculate the error\n",
        "  error = y - y_pred\n",
        "\n",
        "  # Backpropagation\n",
        "  delta2 = error * sigmoid_derivative(y_pred)\n",
        "  dW2 = np.dot(a1.T, delta2)\n",
        "  db2 = np.sum(delta2, axis=0, keepdims=True)\n",
        "\n",
        "  delta1 = np.dot(delta2, W2.T) * sigmoid_derivative(a1)\n",
        "  dW1 = np.dot(X.T, delta1)\n",
        "  db1 = np.sum(delta1, axis=0)\n",
        "\n",
        "  # Update weights and biases\n",
        "  W2 += learning_rate * dW2\n",
        "  b2 += learning_rate * db2\n",
        "  W1 += learning_rate * dW1\n",
        "  b1 += learning_rate * db1\n",
        "\n",
        "  # Print the loss every 1000 epochs\n",
        "  if epoch % 1000 == 0:\n",
        "    loss = np.mean(np.square(error))\n",
        "    print(f\"Epoch {epoch}: Loss = {loss}\")\n",
        "\n",
        "# Test the trained neural network\n",
        "z1 = np.dot(X, W1) + b1\n",
        "a1 = sigmoid(z1)\n",
        "z2 = np.dot(a1, W2) + b2\n",
        "y_pred = sigmoid(z2)\n",
        "\n",
        "print(\"Predictions:\")\n",
        "print(y_pred)\n"
      ]
    }
  ]
}